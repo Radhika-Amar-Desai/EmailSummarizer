{
 "cells": [
  {
   "cell_type": "markdown",
   "metadata": {},
   "source": [
    "# Data Preparation"
   ]
  },
  {
   "cell_type": "code",
   "execution_count": 35,
   "metadata": {},
   "outputs": [],
   "source": [
    "import os\n",
    "notebook_file_path = os.path.dirname(os.path.abspath(\"__file__\"))"
   ]
  },
  {
   "cell_type": "code",
   "execution_count": 36,
   "metadata": {},
   "outputs": [
    {
     "data": {
      "text/plain": [
       "'c:\\\\Users\\\\97433\\\\EmailSummarizer\\\\ModelDevelopment'"
      ]
     },
     "execution_count": 36,
     "metadata": {},
     "output_type": "execute_result"
    }
   ],
   "source": [
    "notebook_file_path"
   ]
  },
  {
   "cell_type": "code",
   "execution_count": 46,
   "metadata": {},
   "outputs": [
    {
     "data": {
      "text/plain": [
       "'windows'"
      ]
     },
     "execution_count": 46,
     "metadata": {},
     "output_type": "execute_result"
    }
   ],
   "source": [
    "import sys\n",
    "platform_type = \"windows\" if \"win\" in sys.platform else \"unix\"\n",
    "platform_type"
   ]
  },
  {
   "cell_type": "markdown",
   "metadata": {},
   "source": [
    "# Standard Pre-processing steps"
   ]
  },
  {
   "cell_type": "code",
   "execution_count": 47,
   "metadata": {},
   "outputs": [
    {
     "data": {
      "text/html": [
       "<div>\n",
       "<style scoped>\n",
       "    .dataframe tbody tr th:only-of-type {\n",
       "        vertical-align: middle;\n",
       "    }\n",
       "\n",
       "    .dataframe tbody tr th {\n",
       "        vertical-align: top;\n",
       "    }\n",
       "\n",
       "    .dataframe thead th {\n",
       "        text-align: right;\n",
       "    }\n",
       "</style>\n",
       "<table border=\"1\" class=\"dataframe\">\n",
       "  <thead>\n",
       "    <tr style=\"text-align: right;\">\n",
       "      <th></th>\n",
       "      <th>thread_id</th>\n",
       "      <th>subject</th>\n",
       "      <th>timestamp</th>\n",
       "      <th>from</th>\n",
       "      <th>to</th>\n",
       "      <th>body</th>\n",
       "      <th>summary</th>\n",
       "    </tr>\n",
       "  </thead>\n",
       "  <tbody>\n",
       "    <tr>\n",
       "      <th>0</th>\n",
       "      <td>1</td>\n",
       "      <td>FW: Master Termination Log</td>\n",
       "      <td>1012303422000</td>\n",
       "      <td>Gossett, Jeffrey C. JGOSSET</td>\n",
       "      <td>['Giron', 'Darron C. Dgiron', 'Love', 'Phillip...</td>\n",
       "      <td>\\n\\n -----Original Message-----\\nFrom: =09Ther...</td>\n",
       "      <td>The email thread discusses the Master Terminat...</td>\n",
       "    </tr>\n",
       "    <tr>\n",
       "      <th>1</th>\n",
       "      <td>1</td>\n",
       "      <td>FW: Master Termination Log</td>\n",
       "      <td>1012481400000</td>\n",
       "      <td>Theriot, Kim S. KTHERIO</td>\n",
       "      <td>['Murphy', 'Melissa Mmurphy', 'Gossett', 'Jeff...</td>\n",
       "      <td>\\n\\n -----Original Message-----\\nFrom: =09Panu...</td>\n",
       "      <td>The email thread discusses the Master Terminat...</td>\n",
       "    </tr>\n",
       "    <tr>\n",
       "      <th>2</th>\n",
       "      <td>1</td>\n",
       "      <td>FW: Master Termination Log</td>\n",
       "      <td>1012921415000</td>\n",
       "      <td>Theriot, Kim S. KTHERIO</td>\n",
       "      <td>['Murphy', 'Melissa Mmurphy', 'Anderson', 'Dia...</td>\n",
       "      <td>Note to Stephanie Panus....\\n\\nStephanie...ple...</td>\n",
       "      <td>The email thread discusses the Master Terminat...</td>\n",
       "    </tr>\n",
       "    <tr>\n",
       "      <th>3</th>\n",
       "      <td>1</td>\n",
       "      <td>FW: Master Termination Log</td>\n",
       "      <td>1012921585000</td>\n",
       "      <td>Theriot, Kim S. KTHERIO</td>\n",
       "      <td>['Hall', 'D. Todd Thall', 'Sweeney', 'Kevin Ks...</td>\n",
       "      <td>\\n\\n -----Original Message-----\\nFrom: =09Panu...</td>\n",
       "      <td>The email thread discusses the Master Terminat...</td>\n",
       "    </tr>\n",
       "    <tr>\n",
       "      <th>4</th>\n",
       "      <td>1</td>\n",
       "      <td>FW: Master Termination Log</td>\n",
       "      <td>1022570435000</td>\n",
       "      <td>Kelly, Katherine L. KKELLY</td>\n",
       "      <td>['Germany', 'Chris Cgerman']</td>\n",
       "      <td>\\n\\n -----Original Message-----\\nFrom: =09McMi...</td>\n",
       "      <td>The email thread discusses the Master Terminat...</td>\n",
       "    </tr>\n",
       "  </tbody>\n",
       "</table>\n",
       "</div>"
      ],
      "text/plain": [
       "   thread_id                     subject      timestamp  \\\n",
       "0          1  FW: Master Termination Log  1012303422000   \n",
       "1          1  FW: Master Termination Log  1012481400000   \n",
       "2          1  FW: Master Termination Log  1012921415000   \n",
       "3          1  FW: Master Termination Log  1012921585000   \n",
       "4          1  FW: Master Termination Log  1022570435000   \n",
       "\n",
       "                          from  \\\n",
       "0  Gossett, Jeffrey C. JGOSSET   \n",
       "1      Theriot, Kim S. KTHERIO   \n",
       "2      Theriot, Kim S. KTHERIO   \n",
       "3      Theriot, Kim S. KTHERIO   \n",
       "4   Kelly, Katherine L. KKELLY   \n",
       "\n",
       "                                                  to  \\\n",
       "0  ['Giron', 'Darron C. Dgiron', 'Love', 'Phillip...   \n",
       "1  ['Murphy', 'Melissa Mmurphy', 'Gossett', 'Jeff...   \n",
       "2  ['Murphy', 'Melissa Mmurphy', 'Anderson', 'Dia...   \n",
       "3  ['Hall', 'D. Todd Thall', 'Sweeney', 'Kevin Ks...   \n",
       "4                       ['Germany', 'Chris Cgerman']   \n",
       "\n",
       "                                                body  \\\n",
       "0  \\n\\n -----Original Message-----\\nFrom: =09Ther...   \n",
       "1  \\n\\n -----Original Message-----\\nFrom: =09Panu...   \n",
       "2  Note to Stephanie Panus....\\n\\nStephanie...ple...   \n",
       "3  \\n\\n -----Original Message-----\\nFrom: =09Panu...   \n",
       "4  \\n\\n -----Original Message-----\\nFrom: =09McMi...   \n",
       "\n",
       "                                             summary  \n",
       "0  The email thread discusses the Master Terminat...  \n",
       "1  The email thread discusses the Master Terminat...  \n",
       "2  The email thread discusses the Master Terminat...  \n",
       "3  The email thread discusses the Master Terminat...  \n",
       "4  The email thread discusses the Master Terminat...  "
      ]
     },
     "execution_count": 47,
     "metadata": {},
     "output_type": "execute_result"
    }
   ],
   "source": [
    "import pandas as pd\n",
    "final_email_dataset_csv = os.path.join(notebook_file_path, r\"Data\\final_email_dataset.csv\") if platform_type == \"windows\" else os.path.join(notebook_file_path, r\"Data/final_email_dataset.csv\")\n",
    "merged_df = pd.read_csv(final_email_dataset_csv)\n",
    "merged_df.head()"
   ]
  },
  {
   "cell_type": "code",
   "execution_count": 42,
   "metadata": {},
   "outputs": [],
   "source": [
    "import string\n",
    "import re\n",
    "\n",
    "def remove_special_chars(text):\n",
    "    punctuations = string.punctuation\n",
    "    \n",
    "    text = re.sub('[^a-zA-Z0-9]', ' ', text)\n",
    "    return text.translate(str.maketrans('', '', punctuations))\n"
   ]
  },
  {
   "cell_type": "code",
   "execution_count": 43,
   "metadata": {},
   "outputs": [],
   "source": [
    "from nltk.corpus import stopwords\n",
    "eng_stopwords = set(stopwords.words('english'))\n",
    "\n",
    "def remove_stopwords(text):\n",
    "    text = text.replace(\"\\n\", \" \")\n",
    "    text = ' '.join([word for word in text.split(' ') if word not in eng_stopwords])\n",
    "    return text\n"
   ]
  },
  {
   "cell_type": "code",
   "execution_count": 7,
   "metadata": {},
   "outputs": [],
   "source": [
    "from nltk.stem.porter import PorterStemmer\n",
    "ps = PorterStemmer()\n",
    "\n",
    "def stem_words(text):\n",
    "    return \"\".join([ps.stem(word) for word in text])"
   ]
  },
  {
   "cell_type": "code",
   "execution_count": 8,
   "metadata": {},
   "outputs": [],
   "source": [
    "from spellchecker import SpellChecker\n",
    "\n",
    "spell = SpellChecker()\n",
    "\n",
    "def correct_spellings(text):\n",
    "    \"\"\"\n",
    "    Correct misspelled words in the input text.\n",
    "    \n",
    "    Args:\n",
    "        text (str): The input text to be corrected.\n",
    "    \n",
    "    Returns:\n",
    "        str: The corrected text.\n",
    "    \"\"\"\n",
    "    corrected_text = []\n",
    "    misspelled_words = spell.unknown(text.split())\n",
    "    \n",
    "    for word in text.split():\n",
    "        if word in misspelled_words:\n",
    "            correction = spell.correction(word)\n",
    "            corrected_text.append(correction if correction else word)  # Use original word if no suggestion\n",
    "        else:\n",
    "            corrected_text.append(word)\n",
    "    \n",
    "    return ' '.join(corrected_text)"
   ]
  },
  {
   "cell_type": "code",
   "execution_count": 9,
   "metadata": {},
   "outputs": [],
   "source": [
    "from collections import Counter\n",
    "\n",
    "def remove_frequent_words(tokens, cutoff = 30):\n",
    "\n",
    "    word_counts = Counter(tokens)\n",
    "    common_words_and_count = word_counts.most_common(cutoff)\n",
    "    most_common_words = [entry[0] for entry in common_words_and_count]\n",
    "    \n",
    "    def filter_func(word):\n",
    "        word = word.strip()\n",
    "        ans =  word not in most_common_words\n",
    "        return ans\n",
    "\n",
    "    filtered_words = list(filter(filter_func, tokens))\n",
    "    return filtered_words"
   ]
  },
  {
   "cell_type": "markdown",
   "metadata": {},
   "source": [
    "# Exploratory Data Analysis"
   ]
  },
  {
   "cell_type": "code",
   "execution_count": 10,
   "metadata": {},
   "outputs": [],
   "source": [
    "import pandas as pd\n",
    "import matplotlib.pyplot as plt\n",
    "import seaborn as sns\n",
    "import nltk\n",
    "from nltk.corpus import stopwords\n",
    "from wordcloud import WordCloud\n",
    "from collections import Counter\n",
    "import re"
   ]
  },
  {
   "cell_type": "code",
   "execution_count": 11,
   "metadata": {},
   "outputs": [
    {
     "data": {
      "image/png": "[encoded data removed]",
      "text/plain": [
       "<Figure size 1000x600 with 1 Axes>"
      ]
     },
     "metadata": {},
     "output_type": "display_data"
    }
   ],
   "source": [
    "# Add a column for text lengths (e.g., number of characters)\n",
    "merged_df['text_length'] = merged_df['body'].apply(len)\n",
    "\n",
    "# Plot the distribution of text lengths\n",
    "plt.figure(figsize=(10, 6))\n",
    "sns.histplot(merged_df['text_length'], bins=50, kde=True)\n",
    "plt.title(\"Distribution of Text Lengths\")\n",
    "plt.xlabel(\"Text Length (characters)\")\n",
    "plt.ylabel(\"Frequency\")\n",
    "plt.show()"
   ]
  },
  {
   "cell_type": "code",
   "execution_count": 12,
   "metadata": {},
   "outputs": [
    {
     "name": "stderr",
     "output_type": "stream",
     "text": [
      "c:\\Users\\97433\\EmailSummarizer\\.venv\\Lib\\site-packages\\tqdm\\auto.py:21: TqdmWarning: IProgress not found. Please update jupyter and ipywidgets. See https://ipywidgets.readthedocs.io/en/stable/user_install.html\n",
      "  from .autonotebook import tqdm as notebook_tqdm\n"
     ]
    },
    {
     "name": "stdout",
     "output_type": "stream",
     "text": [
      "Vocabulary Size: 36355\n"
     ]
    }
   ],
   "source": [
    "from transformers import AutoTokenizer\n",
    "\n",
    "# Initialize the tokenizer\n",
    "tokenizer = AutoTokenizer.from_pretrained(\"facebook/bart-base\")  # Replace with your desired model's tokenizer\n",
    "\n",
    "# Tokenize the text using the auto tokenizer\n",
    "merged_df['body_tokens'] = merged_df['body'].apply(lambda x: tokenizer.tokenize(x))\n",
    "merged_df['summary_tokens'] = merged_df['summary'].apply(lambda x: tokenizer.tokenize(x))\n",
    "merged_df['subject_tokens'] = merged_df['subject'].apply(lambda x: tokenizer.tokenize(x))\n",
    "\n",
    "# Flatten the token list and count unique tokens\n",
    "all_tokens = [token for tokens in merged_df['body_tokens'] for token in tokens]\n",
    "unique_tokens = set(all_tokens)\n",
    "\n",
    "print(f\"Vocabulary Size: {len(unique_tokens)}\")\n"
   ]
  },
  {
   "cell_type": "code",
   "execution_count": 13,
   "metadata": {},
   "outputs": [
    {
     "data": {
      "image/png": "[encoded data removed]",
      "text/plain": [
       "<Figure size 2000x1200 with 1 Axes>"
      ]
     },
     "metadata": {},
     "output_type": "display_data"
    }
   ],
   "source": [
    "word_counts = Counter(all_tokens)\n",
    "\n",
    "common_words_and_count = word_counts.most_common(30)\n",
    "\n",
    "common_words = [entry[0] for entry in common_words_and_count]\n",
    "\n",
    "words, counts = zip(*common_words_and_count)\n",
    "plt.figure(figsize=(20, 12))\n",
    "sns.barplot(x=list(counts), y=list(words))\n",
    "plt.title(\"Most Frequent Words\")\n",
    "plt.xlabel(\"Frequency\")\n",
    "plt.ylabel(\"Words\")\n",
    "plt.show()"
   ]
  },
  {
   "cell_type": "code",
   "execution_count": 14,
   "metadata": {},
   "outputs": [
    {
     "data": {
      "text/plain": [
       "['Ċ',\n",
       " 'Ġ',\n",
       " ',',\n",
       " '.',\n",
       " ':',\n",
       " '/',\n",
       " 'Ġthe',\n",
       " 'ĉ',\n",
       " 'Ġto',\n",
       " '@',\n",
       " 'ĊĊ',\n",
       " 'Ġand',\n",
       " 'ron',\n",
       " 'ECT',\n",
       " 'Ġof',\n",
       " '-',\n",
       " 'Ġa',\n",
       " '=',\n",
       " 'Ġin',\n",
       " 'ĠI',\n",
       " ';',\n",
       " 'Ġfor',\n",
       " 'Ġyou',\n",
       " 'Ġis',\n",
       " 'Ġon',\n",
       " '>',\n",
       " 'Ġthat',\n",
       " 'En',\n",
       " 'com',\n",
       " 'Ġ(']"
      ]
     },
     "execution_count": 14,
     "metadata": {},
     "output_type": "execute_result"
    }
   ],
   "source": [
    "common_words"
   ]
  },
  {
   "cell_type": "code",
   "execution_count": 15,
   "metadata": {},
   "outputs": [
    {
     "data": {
      "text/html": [
       "<div>\n",
       "<style scoped>\n",
       "    .dataframe tbody tr th:only-of-type {\n",
       "        vertical-align: middle;\n",
       "    }\n",
       "\n",
       "    .dataframe tbody tr th {\n",
       "        vertical-align: top;\n",
       "    }\n",
       "\n",
       "    .dataframe thead th {\n",
       "        text-align: right;\n",
       "    }\n",
       "</style>\n",
       "<table border=\"1\" class=\"dataframe\">\n",
       "  <thead>\n",
       "    <tr style=\"text-align: right;\">\n",
       "      <th></th>\n",
       "      <th>thread_id</th>\n",
       "      <th>subject</th>\n",
       "      <th>timestamp</th>\n",
       "      <th>from</th>\n",
       "      <th>to</th>\n",
       "      <th>body</th>\n",
       "      <th>summary</th>\n",
       "      <th>text_length</th>\n",
       "      <th>body_tokens</th>\n",
       "      <th>summary_tokens</th>\n",
       "      <th>subject_tokens</th>\n",
       "    </tr>\n",
       "  </thead>\n",
       "  <tbody>\n",
       "    <tr>\n",
       "      <th>0</th>\n",
       "      <td>1</td>\n",
       "      <td>FW: Master Termination Log</td>\n",
       "      <td>1012303422000</td>\n",
       "      <td>Gossett, Jeffrey C. JGOSSET</td>\n",
       "      <td>['Giron', 'Darron C. Dgiron', 'Love', 'Phillip...</td>\n",
       "      <td>\\n\\n -----Original Message-----\\nFrom: =09Ther...</td>\n",
       "      <td>The email thread discusses the Master Terminat...</td>\n",
       "      <td>2756</td>\n",
       "      <td>[ĊĊ, Ġ-----, Original, ĠMessage, -----, Ċ, Fro...</td>\n",
       "      <td>[The, Ġemail, Ġthread, Ġdiscusses, Ġthe, ĠMast...</td>\n",
       "      <td>[FW, :, ĠMaster, ĠTermin, ation, ĠLog]</td>\n",
       "    </tr>\n",
       "    <tr>\n",
       "      <th>1</th>\n",
       "      <td>1</td>\n",
       "      <td>FW: Master Termination Log</td>\n",
       "      <td>1012481400000</td>\n",
       "      <td>Theriot, Kim S. KTHERIO</td>\n",
       "      <td>['Murphy', 'Melissa Mmurphy', 'Gossett', 'Jeff...</td>\n",
       "      <td>\\n\\n -----Original Message-----\\nFrom: =09Panu...</td>\n",
       "      <td>The email thread discusses the Master Terminat...</td>\n",
       "      <td>1941</td>\n",
       "      <td>[ĊĊ, Ġ-----, Original, ĠMessage, -----, Ċ, Fro...</td>\n",
       "      <td>[The, Ġemail, Ġthread, Ġdiscusses, Ġthe, ĠMast...</td>\n",
       "      <td>[FW, :, ĠMaster, ĠTermin, ation, ĠLog]</td>\n",
       "    </tr>\n",
       "    <tr>\n",
       "      <th>2</th>\n",
       "      <td>1</td>\n",
       "      <td>FW: Master Termination Log</td>\n",
       "      <td>1012921415000</td>\n",
       "      <td>Theriot, Kim S. KTHERIO</td>\n",
       "      <td>['Murphy', 'Melissa Mmurphy', 'Anderson', 'Dia...</td>\n",
       "      <td>Note to Stephanie Panus....\\n\\nStephanie...ple...</td>\n",
       "      <td>The email thread discusses the Master Terminat...</td>\n",
       "      <td>2081</td>\n",
       "      <td>[Note, Ġto, ĠStephanie, ĠPan, us, ...., Ċ, Ċ, ...</td>\n",
       "      <td>[The, Ġemail, Ġthread, Ġdiscusses, Ġthe, ĠMast...</td>\n",
       "      <td>[FW, :, ĠMaster, ĠTermin, ation, ĠLog]</td>\n",
       "    </tr>\n",
       "    <tr>\n",
       "      <th>3</th>\n",
       "      <td>1</td>\n",
       "      <td>FW: Master Termination Log</td>\n",
       "      <td>1012921585000</td>\n",
       "      <td>Theriot, Kim S. KTHERIO</td>\n",
       "      <td>['Hall', 'D. Todd Thall', 'Sweeney', 'Kevin Ks...</td>\n",
       "      <td>\\n\\n -----Original Message-----\\nFrom: =09Panu...</td>\n",
       "      <td>The email thread discusses the Master Terminat...</td>\n",
       "      <td>1915</td>\n",
       "      <td>[ĊĊ, Ġ-----, Original, ĠMessage, -----, Ċ, Fro...</td>\n",
       "      <td>[The, Ġemail, Ġthread, Ġdiscusses, Ġthe, ĠMast...</td>\n",
       "      <td>[FW, :, ĠMaster, ĠTermin, ation, ĠLog]</td>\n",
       "    </tr>\n",
       "    <tr>\n",
       "      <th>4</th>\n",
       "      <td>1</td>\n",
       "      <td>FW: Master Termination Log</td>\n",
       "      <td>1022570435000</td>\n",
       "      <td>Kelly, Katherine L. KKELLY</td>\n",
       "      <td>['Germany', 'Chris Cgerman']</td>\n",
       "      <td>\\n\\n -----Original Message-----\\nFrom: =09McMi...</td>\n",
       "      <td>The email thread discusses the Master Terminat...</td>\n",
       "      <td>2249</td>\n",
       "      <td>[ĊĊ, Ġ-----, Original, ĠMessage, -----, Ċ, Fro...</td>\n",
       "      <td>[The, Ġemail, Ġthread, Ġdiscusses, Ġthe, ĠMast...</td>\n",
       "      <td>[FW, :, ĠMaster, ĠTermin, ation, ĠLog]</td>\n",
       "    </tr>\n",
       "  </tbody>\n",
       "</table>\n",
       "</div>"
      ],
      "text/plain": [
       "   thread_id                     subject      timestamp  \\\n",
       "0          1  FW: Master Termination Log  1012303422000   \n",
       "1          1  FW: Master Termination Log  1012481400000   \n",
       "2          1  FW: Master Termination Log  1012921415000   \n",
       "3          1  FW: Master Termination Log  1012921585000   \n",
       "4          1  FW: Master Termination Log  1022570435000   \n",
       "\n",
       "                          from  \\\n",
       "0  Gossett, Jeffrey C. JGOSSET   \n",
       "1      Theriot, Kim S. KTHERIO   \n",
       "2      Theriot, Kim S. KTHERIO   \n",
       "3      Theriot, Kim S. KTHERIO   \n",
       "4   Kelly, Katherine L. KKELLY   \n",
       "\n",
       "                                                  to  \\\n",
       "0  ['Giron', 'Darron C. Dgiron', 'Love', 'Phillip...   \n",
       "1  ['Murphy', 'Melissa Mmurphy', 'Gossett', 'Jeff...   \n",
       "2  ['Murphy', 'Melissa Mmurphy', 'Anderson', 'Dia...   \n",
       "3  ['Hall', 'D. Todd Thall', 'Sweeney', 'Kevin Ks...   \n",
       "4                       ['Germany', 'Chris Cgerman']   \n",
       "\n",
       "                                                body  \\\n",
       "0  \\n\\n -----Original Message-----\\nFrom: =09Ther...   \n",
       "1  \\n\\n -----Original Message-----\\nFrom: =09Panu...   \n",
       "2  Note to Stephanie Panus....\\n\\nStephanie...ple...   \n",
       "3  \\n\\n -----Original Message-----\\nFrom: =09Panu...   \n",
       "4  \\n\\n -----Original Message-----\\nFrom: =09McMi...   \n",
       "\n",
       "                                             summary  text_length  \\\n",
       "0  The email thread discusses the Master Terminat...         2756   \n",
       "1  The email thread discusses the Master Terminat...         1941   \n",
       "2  The email thread discusses the Master Terminat...         2081   \n",
       "3  The email thread discusses the Master Terminat...         1915   \n",
       "4  The email thread discusses the Master Terminat...         2249   \n",
       "\n",
       "                                         body_tokens  \\\n",
       "0  [ĊĊ, Ġ-----, Original, ĠMessage, -----, Ċ, Fro...   \n",
       "1  [ĊĊ, Ġ-----, Original, ĠMessage, -----, Ċ, Fro...   \n",
       "2  [Note, Ġto, ĠStephanie, ĠPan, us, ...., Ċ, Ċ, ...   \n",
       "3  [ĊĊ, Ġ-----, Original, ĠMessage, -----, Ċ, Fro...   \n",
       "4  [ĊĊ, Ġ-----, Original, ĠMessage, -----, Ċ, Fro...   \n",
       "\n",
       "                                      summary_tokens  \\\n",
       "0  [The, Ġemail, Ġthread, Ġdiscusses, Ġthe, ĠMast...   \n",
       "1  [The, Ġemail, Ġthread, Ġdiscusses, Ġthe, ĠMast...   \n",
       "2  [The, Ġemail, Ġthread, Ġdiscusses, Ġthe, ĠMast...   \n",
       "3  [The, Ġemail, Ġthread, Ġdiscusses, Ġthe, ĠMast...   \n",
       "4  [The, Ġemail, Ġthread, Ġdiscusses, Ġthe, ĠMast...   \n",
       "\n",
       "                           subject_tokens  \n",
       "0  [FW, :, ĠMaster, ĠTermin, ation, ĠLog]  \n",
       "1  [FW, :, ĠMaster, ĠTermin, ation, ĠLog]  \n",
       "2  [FW, :, ĠMaster, ĠTermin, ation, ĠLog]  \n",
       "3  [FW, :, ĠMaster, ĠTermin, ation, ĠLog]  \n",
       "4  [FW, :, ĠMaster, ĠTermin, ation, ĠLog]  "
      ]
     },
     "execution_count": 15,
     "metadata": {},
     "output_type": "execute_result"
    }
   ],
   "source": [
    "merged_df.head()"
   ]
  },
  {
   "cell_type": "code",
   "execution_count": 16,
   "metadata": {},
   "outputs": [],
   "source": [
    "merged_df = merged_df.drop(columns=[\"thread_id\", \"timestamp\", \"from\", \"to\"], axis = 1)\n",
    "\n",
    "def preprocessing_pipeline(df, attribute, token_attribute):\n",
    "    \n",
    "        df[attribute] = df[attribute].str.lower()\n",
    "        df[attribute] = df[attribute].apply(remove_special_chars)\n",
    "        df[attribute] = df[attribute].apply(stem_words)\n",
    "        df[token_attribute] = df[token_attribute].apply(remove_frequent_words)\n",
    "\n",
    "        return df"
   ]
  },
  {
   "cell_type": "code",
   "execution_count": 17,
   "metadata": {},
   "outputs": [],
   "source": [
    "merged_df = preprocessing_pipeline(merged_df, 'body', 'body_tokens')\n",
    "merged_df = preprocessing_pipeline(merged_df, 'summary', 'summary_tokens')\n",
    "merged_df = preprocessing_pipeline(merged_df, 'subject', 'subject_tokens')"
   ]
  },
  {
   "cell_type": "markdown",
   "metadata": {},
   "source": [
    "# Fine tuning the model"
   ]
  },
  {
   "cell_type": "code",
   "execution_count": 18,
   "metadata": {},
   "outputs": [
    {
     "data": {
      "text/html": [
       "<div>\n",
       "<style scoped>\n",
       "    .dataframe tbody tr th:only-of-type {\n",
       "        vertical-align: middle;\n",
       "    }\n",
       "\n",
       "    .dataframe tbody tr th {\n",
       "        vertical-align: top;\n",
       "    }\n",
       "\n",
       "    .dataframe thead th {\n",
       "        text-align: right;\n",
       "    }\n",
       "</style>\n",
       "<table border=\"1\" class=\"dataframe\">\n",
       "  <thead>\n",
       "    <tr style=\"text-align: right;\">\n",
       "      <th></th>\n",
       "      <th>subject</th>\n",
       "      <th>body</th>\n",
       "      <th>summary</th>\n",
       "      <th>text_length</th>\n",
       "      <th>body_tokens</th>\n",
       "      <th>summary_tokens</th>\n",
       "      <th>subject_tokens</th>\n",
       "    </tr>\n",
       "  </thead>\n",
       "  <tbody>\n",
       "    <tr>\n",
       "      <th>0</th>\n",
       "      <td>fw  master termination log</td>\n",
       "      <td>original message      from   09theriot...</td>\n",
       "      <td>the email thread discusses the master terminat...</td>\n",
       "      <td>2756</td>\n",
       "      <td>[Ġ-----, Original, ĠMessage, -----, From, Ther...</td>\n",
       "      <td>[66, Ġmillion, Ġsettlement, Ġoffer, ĠStephanie...</td>\n",
       "      <td>[]</td>\n",
       "    </tr>\n",
       "    <tr>\n",
       "      <th>1</th>\n",
       "      <td>fw  master termination log</td>\n",
       "      <td>original message      from   09panus  ...</td>\n",
       "      <td>the email thread discusses the master terminat...</td>\n",
       "      <td>1941</td>\n",
       "      <td>[Ġ-----, Original, ĠMessage, -----, From, Pan,...</td>\n",
       "      <td>[66, Ġmillion, Ġsettlement, Ġoffer, ĠStephanie...</td>\n",
       "      <td>[]</td>\n",
       "    </tr>\n",
       "    <tr>\n",
       "      <th>2</th>\n",
       "      <td>fw  master termination log</td>\n",
       "      <td>note to stephanie panus      stephanie   pleas...</td>\n",
       "      <td>the email thread discusses the master terminat...</td>\n",
       "      <td>2081</td>\n",
       "      <td>[Note, Ġto, ...., ..., please, Ġremove, Ġmy, Ġ...</td>\n",
       "      <td>[66, Ġmillion, Ġsettlement, Ġoffer, ĠStephanie...</td>\n",
       "      <td>[]</td>\n",
       "    </tr>\n",
       "    <tr>\n",
       "      <th>3</th>\n",
       "      <td>fw  master termination log</td>\n",
       "      <td>original message      from   09panus  ...</td>\n",
       "      <td>the email thread discusses the master terminat...</td>\n",
       "      <td>1915</td>\n",
       "      <td>[Ġ-----, Original, ĠMessage, -----, From, Pan,...</td>\n",
       "      <td>[66, Ġmillion, Ġsettlement, Ġoffer, ĠStephanie...</td>\n",
       "      <td>[]</td>\n",
       "    </tr>\n",
       "    <tr>\n",
       "      <th>4</th>\n",
       "      <td>fw  master termination log</td>\n",
       "      <td>original message      from   09mcmicha...</td>\n",
       "      <td>the email thread discusses the master terminat...</td>\n",
       "      <td>2249</td>\n",
       "      <td>[Ġ-----, Original, ĠMessage, -----, From, Mc, ...</td>\n",
       "      <td>[66, Ġmillion, Ġsettlement, Ġoffer, ĠStephanie...</td>\n",
       "      <td>[]</td>\n",
       "    </tr>\n",
       "  </tbody>\n",
       "</table>\n",
       "</div>"
      ],
      "text/plain": [
       "                      subject  \\\n",
       "0  fw  master termination log   \n",
       "1  fw  master termination log   \n",
       "2  fw  master termination log   \n",
       "3  fw  master termination log   \n",
       "4  fw  master termination log   \n",
       "\n",
       "                                                body  \\\n",
       "0          original message      from   09theriot...   \n",
       "1          original message      from   09panus  ...   \n",
       "2  note to stephanie panus      stephanie   pleas...   \n",
       "3          original message      from   09panus  ...   \n",
       "4          original message      from   09mcmicha...   \n",
       "\n",
       "                                             summary  text_length  \\\n",
       "0  the email thread discusses the master terminat...         2756   \n",
       "1  the email thread discusses the master terminat...         1941   \n",
       "2  the email thread discusses the master terminat...         2081   \n",
       "3  the email thread discusses the master terminat...         1915   \n",
       "4  the email thread discusses the master terminat...         2249   \n",
       "\n",
       "                                         body_tokens  \\\n",
       "0  [Ġ-----, Original, ĠMessage, -----, From, Ther...   \n",
       "1  [Ġ-----, Original, ĠMessage, -----, From, Pan,...   \n",
       "2  [Note, Ġto, ...., ..., please, Ġremove, Ġmy, Ġ...   \n",
       "3  [Ġ-----, Original, ĠMessage, -----, From, Pan,...   \n",
       "4  [Ġ-----, Original, ĠMessage, -----, From, Mc, ...   \n",
       "\n",
       "                                      summary_tokens subject_tokens  \n",
       "0  [66, Ġmillion, Ġsettlement, Ġoffer, ĠStephanie...             []  \n",
       "1  [66, Ġmillion, Ġsettlement, Ġoffer, ĠStephanie...             []  \n",
       "2  [66, Ġmillion, Ġsettlement, Ġoffer, ĠStephanie...             []  \n",
       "3  [66, Ġmillion, Ġsettlement, Ġoffer, ĠStephanie...             []  \n",
       "4  [66, Ġmillion, Ġsettlement, Ġoffer, ĠStephanie...             []  "
      ]
     },
     "execution_count": 18,
     "metadata": {},
     "output_type": "execute_result"
    }
   ],
   "source": [
    "merged_df.head()"
   ]
  },
  {
   "cell_type": "code",
   "execution_count": null,
   "metadata": {},
   "outputs": [
    {
     "name": "stderr",
     "output_type": "stream",
     "text": [
      "Map: 100%|██████████| 17347/17347 [01:50<00:00, 156.95 examples/s]\n",
      "Map: 100%|██████████| 4337/4337 [00:31<00:00, 139.09 examples/s]\n",
      "c:\\Users\\97433\\EmailSummarizer\\.venv\\Lib\\site-packages\\transformers\\training_args.py:1575: FutureWarning: `evaluation_strategy` is deprecated and will be removed in version 4.46 of 🤗 Transformers. Use `eval_strategy` instead\n",
      "  warnings.warn(\n",
      "C:\\Users\\97433\\AppData\\Local\\Temp\\ipykernel_35944\\868574529.py:69: FutureWarning: `tokenizer` is deprecated and will be removed in version 5.0.0 for `Trainer.__init__`. Use `processing_class` instead.\n",
      "  trainer = Trainer(\n",
      "  0%|          | 3/13011 [16:09<1184:14:27, 327.74s/it]"
     ]
    }
   ],
   "source": [
    "import pandas as pd\n",
    "from transformers import BartTokenizer, BartForConditionalGeneration, Trainer, TrainingArguments\n",
    "from datasets import Dataset, DatasetDict\n",
    "from sklearn.model_selection import train_test_split\n",
    "import torch\n",
    "\n",
    "MODEL_DIR = os.path.join(notebook_file_path, r\"fine_tuned_bart\")\n",
    "RESULTS_DIR = os.path.join(notebook_file_path, r\"results\")\n",
    "LOGS_DIR = os.path.join(notebook_file_path, r\"logs\")\n",
    "\n",
    "# Combine subject and body for input\n",
    "merged_df[\"input_text\"] = merged_df[\"subject\"] + \": \" + merged_df[\"body\"]\n",
    "merged_df = merged_df[[\"input_text\", \"summary\"]]\n",
    "\n",
    "# Train-test split\n",
    "train_data, test_data = train_test_split(merged_df, test_size=0.2, random_state=42)\n",
    "\n",
    "# Convert to Hugging Face Dataset\n",
    "train_dataset = Dataset.from_pandas(train_data)\n",
    "test_dataset = Dataset.from_pandas(test_data)\n",
    "datasets = DatasetDict({\"train\": train_dataset, \"test\": test_dataset})\n",
    "\n",
    "# Load BART tokenizer and model\n",
    "tokenizer = BartTokenizer.from_pretrained(\"facebook/bart-large\")\n",
    "model = BartForConditionalGeneration.from_pretrained(\"facebook/bart-large\")\n",
    "\n",
    "# Tokenize the datasets\n",
    "def tokenize_function(examples):\n",
    "    inputs = tokenizer(examples[\"input_text\"], max_length=1024, truncation=True, padding=\"max_length\")\n",
    "    outputs = tokenizer(examples[\"summary\"], max_length=128, truncation=True, padding=\"max_length\")\n",
    "    inputs[\"labels\"] = outputs[\"input_ids\"]\n",
    "    return inputs\n",
    "\n",
    "# Tokenize datasets\n",
    "tokenized_datasets = datasets.map(tokenize_function, batched=True, remove_columns=datasets[\"train\"].column_names)\n",
    "\n",
    "# Define Trainer arguments\n",
    "training_args = TrainingArguments(\n",
    "    output_dir=RESULTS_DIR,\n",
    "    evaluation_strategy=\"epoch\",\n",
    "    learning_rate=5e-5,\n",
    "    per_device_train_batch_size=1,\n",
    "    per_device_eval_batch_size=1,\n",
    "    num_train_epochs=3,\n",
    "    weight_decay=0.01,\n",
    "    save_strategy=\"epoch\",\n",
    "    load_best_model_at_end=True,\n",
    "    logging_dir=LOGS_DIR,\n",
    "    logging_steps=500,\n",
    ")\n",
    "\n",
    "# Data collator for padding\n",
    "def data_collator(features):\n",
    "    return {\n",
    "        \"input_ids\": torch.tensor([f[\"input_ids\"] for f in features]),\n",
    "        \"attention_mask\": torch.tensor([f[\"attention_mask\"] for f in features]),\n",
    "        \"labels\": torch.tensor([f[\"labels\"] for f in features]),\n",
    "    }\n",
    "\n",
    "# Trainer\n",
    "def compute_metrics(eval_pred):\n",
    "    predictions, labels = eval_pred\n",
    "    decoded_preds = tokenizer.batch_decode(predictions, skip_special_tokens=True)\n",
    "    decoded_labels = tokenizer.batch_decode(labels, skip_special_tokens=True)\n",
    "    rouge = datasets.load_metric(\"rouge\")\n",
    "    result = rouge.compute(predictions=decoded_preds, references=decoded_labels, use_stemmer=True)\n",
    "    return {key: value.mid.fmeasure for key, value in result.items()}\n",
    "\n",
    "trainer = Trainer(\n",
    "    model=model,\n",
    "    args=training_args,\n",
    "    train_dataset=tokenized_datasets[\"train\"],\n",
    "    eval_dataset=tokenized_datasets[\"test\"],\n",
    "    data_collator=data_collator,\n",
    "    tokenizer=tokenizer,\n",
    "    compute_metrics=compute_metrics,\n",
    ")\n",
    "\n",
    "# Train the model\n",
    "trainer.train()\n",
    "\n",
    "# Save the fine-tuned model\n",
    "trainer.save_model(MODEL_DIR)\n"
   ]
  },
  {
   "cell_type": "code",
   "execution_count": 129,
   "metadata": {},
   "outputs": [
    {
     "name": "stdout",
     "output_type": "stream",
     "text": [
      "Name: accelerate\n",
      "Version: 1.2.1\n",
      "Summary: Accelerate\n",
      "Home-page: https://github.com/huggingface/accelerate\n",
      "Author: The HuggingFace team\n",
      "Author-email: zach.mueller@huggingface.co\n",
      "License: Apache\n",
      "Location: c:\\Users\\97433\\EmailSummarizer\\.venv\\Lib\\site-packages\n",
      "Requires: huggingface-hub, numpy, packaging, psutil, pyyaml, safetensors, torch\n",
      "Required-by: \n"
     ]
    }
   ],
   "source": [
    "!pip show accelerate"
   ]
  }
 ],
 "metadata": {
  "kernelspec": {
   "display_name": ".venv",
   "language": "python",
   "name": "python3"
  },
  "language_info": {
   "codemirror_mode": {
    "name": "ipython",
    "version": 3
   },
   "file_extension": ".py",
   "mimetype": "text/x-python",
   "name": "python",
   "nbconvert_exporter": "python",
   "pygments_lexer": "ipython3",
   "version": "3.12.7"
  }
 },
 "nbformat": 4,
 "nbformat_minor": 2
}
